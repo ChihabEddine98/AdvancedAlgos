{
 "metadata": {
  "language_info": {
   "codemirror_mode": {
    "name": "ipython",
    "version": 3
   },
   "file_extension": ".py",
   "mimetype": "text/x-python",
   "name": "python",
   "nbconvert_exporter": "python",
   "pygments_lexer": "ipython3",
   "version": "3.8.3-final"
  },
  "orig_nbformat": 2,
  "kernelspec": {
   "name": "python3",
   "display_name": "Python 3",
   "language": "python"
  }
 },
 "nbformat": 4,
 "nbformat_minor": 2,
 "cells": [
  {
   "cell_type": "code",
   "execution_count": 1,
   "metadata": {},
   "outputs": [],
   "source": [
    "# Discrete Unit Disk Problem (DUDC)\n",
    "## Question 01 : Algorithme glouton qui résout le DUDC pour des d=1:"
   ]
  },
  {
   "cell_type": "code",
   "execution_count": 3,
   "metadata": {},
   "outputs": [],
   "source": [
    "# Imports \n",
    "import matplotlib.pyplot as plt\n",
    "import numpy as np"
   ]
  },
  {
   "cell_type": "code",
   "execution_count": 14,
   "metadata": {},
   "outputs": [
    {
     "output_type": "execute_result",
     "data": {
      "text/plain": [
       "[75, 67, 40, 33]"
      ]
     },
     "metadata": {},
     "execution_count": 14
    }
   ],
   "source": [
    "def round_grade(grade):\n",
    "    return grade+5-grade%5 if grade >= 38 and grade%5 > 2 else grade \n",
    "grades=[73,67,38,33]\n",
    "grades=list(map(round_grade,grades))\n",
    "grades"
   ]
  },
  {
   "cell_type": "code",
   "execution_count": 19,
   "metadata": {},
   "outputs": [
    {
     "output_type": "execute_result",
     "data": {
      "text/plain": [
       "[5, 6, 90]"
      ]
     },
     "metadata": {},
     "execution_count": 19
    }
   ],
   "source": [
    "def list_manager(l,input):\n",
    "    if input[0]=='insert':\n",
    "        l.insert(*map(int,[input[1],input[2]]))\n",
    "    elif input[0]=='print':\n",
    "        print(l)\n",
    "    elif input[0]=='remove':\n",
    "        l.remove(int(input[1]))\n",
    "    elif input[0]=='append':\n",
    "        l.append(int(input[1]))\n",
    "    elif input[0]=='sort':\n",
    "        l.sort()\n",
    "    elif input[0]=='reverse':\n",
    "        l.reverse()\n",
    "    elif input[0]=='pop':\n",
    "        l.pop()\n",
    "    else:\n",
    "        pass\n",
    "l=[1,5,6,90]\n",
    "l.remove(1)\n",
    "l"
   ]
  },
  {
   "cell_type": "code",
   "execution_count": null,
   "metadata": {},
   "outputs": [],
   "source": []
  }
 ]
}