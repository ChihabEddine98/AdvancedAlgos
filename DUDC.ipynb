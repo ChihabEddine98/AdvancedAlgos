{
 "metadata": {
  "language_info": {
   "codemirror_mode": {
    "name": "ipython",
    "version": 3
   },
   "file_extension": ".py",
   "mimetype": "text/x-python",
   "name": "python",
   "nbconvert_exporter": "python",
   "pygments_lexer": "ipython3",
   "version": "3.8.3-final"
  },
  "orig_nbformat": 2,
  "kernelspec": {
   "name": "python3",
   "display_name": "Python 3",
   "language": "python"
  }
 },
 "nbformat": 4,
 "nbformat_minor": 2,
 "cells": [
  {
   "cell_type": "code",
   "execution_count": 2,
   "metadata": {},
   "outputs": [],
   "source": [
    "# Imports \n",
    "import math\n",
    "import matplotlib.pyplot as plt\n",
    "import numpy as np"
   ]
  },
  {
   "source": [
    "# DUDC : discrete unit disc cover\n",
    "## I) - DUDC dans $\\mathbb{R} (d=1) $ \n",
    "### Question 01 : Algorithme glouton qui résout le DUDC:"
   ],
   "cell_type": "markdown",
   "metadata": {}
  },
  {
   "cell_type": "code",
   "execution_count": 4,
   "metadata": {},
   "outputs": [],
   "source": [
    "# Discrete Unit Disk Problem (DUDC)\n",
    "# Used functions\n",
    "def norm2(a,b):\n",
    "    return (a.x-b.x)**2 + (a.y-b.y)**2\n",
    "\n",
    "# Used Classes !\n",
    "class Point:\n",
    "    def __init__(self,x=0,y=0):\n",
    "        self.x = x\n",
    "        self.y=y\n",
    "    def __repr__(self):\n",
    "        return f'({self.x},{self.y})'\n",
    "    def __lt__(self, other):\n",
    "        return (self.x < other.x) or (self.x == other.x and self.y < other.y)\n",
    "\n",
    "class Circle:\n",
    "    def __init__(self,x,y,r=1):\n",
    "        self.x=x\n",
    "        self.y=y\n",
    "        self.r=r\n",
    "    def __repr__(self):\n",
    "        return f'({self.x},{self.y})'\n",
    "    def __lt__(self, other):\n",
    "        return (self.x < other.x) or (self.x == other.x and self.y < other.y)\n",
    "    def covers(self,point):\n",
    "        return norm2(point,self) <= 1\n",
    "\n"
   ]
  },
  {
   "cell_type": "code",
   "execution_count": 9,
   "metadata": {},
   "outputs": [
    {
     "output_type": "execute_result",
     "data": {
      "text/plain": [
       "True"
      ]
     },
     "metadata": {},
     "execution_count": 9
    }
   ],
   "source": [
    "C=Circle(0,0)\n",
    "p=Point(0.5,0)\n",
    "\n",
    "C.covers(p)"
   ]
  },
  {
   "cell_type": "code",
   "execution_count": 22,
   "metadata": {},
   "outputs": [
    {
     "output_type": "execute_result",
     "data": {
      "text/plain": [
       "array([[1., 0., 0.],\n",
       "       [0., 1., 0.],\n",
       "       [0., 0., 1.]])"
      ]
     },
     "metadata": {},
     "execution_count": 22
    }
   ],
   "source": []
  },
  {
   "cell_type": "code",
   "execution_count": null,
   "metadata": {},
   "outputs": [],
   "source": []
  }
 ]
}