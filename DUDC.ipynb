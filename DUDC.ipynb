{
 "metadata": {
  "language_info": {
   "codemirror_mode": {
    "name": "ipython",
    "version": 3
   },
   "file_extension": ".py",
   "mimetype": "text/x-python",
   "name": "python",
   "nbconvert_exporter": "python",
   "pygments_lexer": "ipython3",
   "version": "3.8.3-final"
  },
  "orig_nbformat": 2,
  "kernelspec": {
   "name": "python3",
   "display_name": "Python 3",
   "language": "python"
  }
 },
 "nbformat": 4,
 "nbformat_minor": 2,
 "cells": [
  {
   "cell_type": "code",
   "execution_count": 2,
   "metadata": {},
   "outputs": [],
   "source": [
    "# Imports \n",
    "import math\n",
    "import matplotlib.pyplot as plt\n",
    "import numpy as np"
   ]
  },
  {
   "source": [
    "# DUDC : discrete unit disc cover\n",
    "## I) - DUDC dans $\\mathbb{R} (d=1) $ \n",
    "### Question 01 : Algorithme glouton qui résout le DUDC:\n",
    "#### Classes utilisées "
   ],
   "cell_type": "markdown",
   "metadata": {}
  },
  {
   "cell_type": "code",
   "execution_count": 4,
   "metadata": {},
   "outputs": [],
   "source": [
    "# Discrete Unit Disk Problem (DUDC)\n",
    "# Used functions\n",
    "def norm2(a,b):\n",
    "    return (a.x-b.x)**2 + (a.y-b.y)**2\n",
    "\n",
    "# Used Classes !\n",
    "class Point:\n",
    "    def __init__(self,x=0,y=0):\n",
    "        self.x = x\n",
    "        self.y=y\n",
    "    def __repr__(self):\n",
    "        return f'({self.x},{self.y})'\n",
    "    def __lt__(self, other):\n",
    "        return (self.x < other.x) or (self.x == other.x and self.y < other.y)\n",
    "\n",
    "class Circle:\n",
    "    def __init__(self,x,y,r=1):\n",
    "        self.x=x\n",
    "        self.y=y\n",
    "        self.r=r\n",
    "    def __repr__(self):\n",
    "        return f'({self.x},{self.y})'\n",
    "    def __lt__(self, other):\n",
    "        return (self.x < other.x) or (self.x == other.x and self.y < other.y)\n",
    "    def covers(self,point):\n",
    "        return norm2(point,self) <= 1\n",
    "\n"
   ]
  },
  {
   "source": [
    "## Classe DUDC qu'on va s'en servir pour la représentation graphique :"
   ],
   "cell_type": "markdown",
   "metadata": {}
  },
  {
   "cell_type": "code",
   "execution_count": 9,
   "metadata": {},
   "outputs": [
    {
     "output_type": "execute_result",
     "data": {
      "text/plain": [
       "True"
      ]
     },
     "metadata": {},
     "execution_count": 9
    }
   ],
   "source": [
    "class DUDC:\n",
    "    def __init__(self):\n",
    "        self.P = set() # set of points\n",
    "        self.Q = set() # set of unit circles\n",
    "        self.num_P =self.num_Q= 0\n",
    "        self.d = 1  # We are in |R\n",
    "    def __repr__(self):\n",
    "        return f'({self.P},{self.Q})'\n",
    "    def figure(self,solution=[]):\n",
    "        plt.clf()\n",
    "        plt.axis(\"equal\")\n",
    "        for p in self.P:\n",
    "            plt.scatter(p.x,p.y,marker='+',c='k',zorder=2)\n",
    "        for q in self.Q:\n",
    "           color = 'green' if q in solution else 'red'\n",
    "           plt.scatter(q.x, q.y,marker = 'o',c=color, zorder = 1)\n",
    "           circle = plt.Circle((q.x, q.y), 1, color = 'g', alpha = 0.1, zorder = 0)\n",
    "           plt.gcf().gca().add_artist(circle)\n",
    "        plt.xlabel('Abscisses X')\n",
    "        plt.ylabel('Ordonnées Y')\n",
    "        plt.title('DUDC Problem graph')\n",
    "        return plt"
   ]
  },
  {
   "source": [
    "# Algorithme Glouton (Greedy aproach) DUDC 1D"
   ],
   "cell_type": "markdown",
   "metadata": {}
  },
  {
   "cell_type": "code",
   "execution_count": 22,
   "metadata": {
    "pycharm": {
     "name": "#%%\n"
    }
   },
   "outputs": [
    {
     "output_type": "execute_result",
     "data": {
      "text/plain": [
       "array([[1., 0., 0.],\n",
       "       [0., 1., 0.],\n",
       "       [0., 0., 1.]])"
      ]
     },
     "metadata": {},
     "execution_count": 22
    }
   ],
   "source": [
    "def dudc_1d(P,Q):\n",
    "    points=sorted(list(P))\n",
    "    circles=sorted(list(Q))\n",
    "    Q_star=set()\n",
    "    cpt_circle=0\n",
    "    while len(points):\n",
    "        p_left=points[0]\n",
    "        # Le premier cercle qui couvre ce point\n",
    "        for circle in circles:\n",
    "            if circle.covers(p_left):\n",
    "                break\n",
    "            cpt_circle+=1\n",
    "\n",
    "        if cpt_circle >= len(circles):\n",
    "            print(' This DUDC problem hasn t any solution ')\n",
    "            Q_star.clear()\n",
    "            break\n",
    "\n",
    "        # Le plus a droite cercle couvrant ce point\n",
    "        while cpt_circle < len(circles) - 1 and circles[cpt_circle + 1].covers(p_left):\n",
    "             cpt_circle += 1\n",
    "             circle = circles[cpt_circle]\n",
    "        Q_star.add(circle)\n",
    "        for p in points:\n",
    "            if circle.covers(p):\n",
    "                points.remove(p)\n",
    "    return Q_star\n",
    "\n",
    "\n"
   ]
  },
  {
   "cell_type": "code",
   "execution_count": null,
   "metadata": {},
   "outputs": [],
   "source": []
  }
 ]
}